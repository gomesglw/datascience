{
 "cells": [
  {
   "cell_type": "markdown",
   "id": "7edc8fc5",
   "metadata": {},
   "source": [
    "# <font color='red'>Análise de Sentimentos em Tweets sobre o ChatGPT com PySpark</font>\n",
    "# <font color='red'>Análise de Dados com Spark</font>\n",
    "## <font color='red'>Gleidson Gomes - 25/06/2023</font>"
   ]
  },
  {
   "cell_type": "markdown",
   "id": "a93e56a6",
   "metadata": {},
   "source": [
    "## <font color='red'>1 - Introdução</font>\n",
    "\n",
    "Este trabalho apresenta uma análise de sentimento a respeito do ChatGPT por meio de processamento de linguagem de dados textuais extraídas do Twitter.\n",
    "\n",
    "A análise de sentimento consiste em identificar o sentimento de alguém por qualquer coisa por meio de um texto em linguagem natural [1].\n",
    "\n",
    "O ChatGPT [2] é um serviço de Inteligência Artificial (IA) [3] que permite responder perguntas em geral em forma de texto a fim de esclarecer uma dúvida ou resolver um problema real.\n",
    "\n",
    "O Twitter [4] é uma rede social que permite aos usuários enviar e receber atualizações pessoais de outros contatos (em textos de até 280 caracteres conhecidos como \"tweets\") por meio do \"Website\" do serviço, aplicativo e por programas específicos de gerenciamento.\n",
    "\n",
    "O objetivo deste trabalho é identificar o sentimento das pessoas que predomina sobre o ChatGPT com o auxílio de processamento de linguagem de dados textuais extraídas de mensagens do Twitter com as seguintes condições:\n",
    "\n",
    "#### Etapas:\n",
    "\n",
    "* Entrada: mensagem de texto oriunda do Twitter para a análise de sentimento sobre o ChatGPT por meio da biblioteca TextBlob [5] para processamento de dados textuais suportada somente para a língua inglesa.\n",
    "\n",
    "* Saída: classificação do sentimento da mensagem em neutro, positiva ou negativa.\n",
    "\n",
    "#### Regras:\n",
    "\n",
    "* mensagens que contém a palavra ChatGPT em seu texto no idioma inglês de qualquer localização geográfica;\n",
    " \n",
    "* extração de 100 mensagens para análise inicial. Posteriormente automatizar a aplicação para extrair 1.500 mensagens por mês conforme limite permitido pelo serviço gratuito disponibilizado pela Twitter;\n",
    " \n",
    "* aplicação de técnicas de pré-processamento de dados para melhorar o texto para análise, como a \"Stop Word Removal\" (remove palavras muito frequentes, tais como a, de, o, da, que, e, do, entre outras) e a \"Text Lemmatization\" (reduz as palavras flexionadas adequadamente para sua forma (lema) raiz considerando o contexto da palavra, bem como a palavra anterior [7].\n",
    "\n",
    "Informações adicionais a título de trabalhos relacionados podem ser consultados em [6]."
   ]
  },
  {
   "cell_type": "markdown",
   "id": "dc2e9542",
   "metadata": {},
   "source": [
    "## <font color='red'>2 - Objetivo</font>\n",
    "\n",
    "* Identificar o sentimento das pessoas que predomina sobre o ChatGPT por meio de processamento de linguagem de dados textuais extraídas de mensagens do Twitter e classificar em neutro, positivo e negativo."
   ]
  },
  {
   "cell_type": "markdown",
   "id": "587ce4a6",
   "metadata": {},
   "source": [
    "## <font color='red'>3 - Preparação do ambiente PySpark</font>"
   ]
  },
  {
   "cell_type": "code",
   "execution_count": 37,
   "id": "c767c2bf",
   "metadata": {},
   "outputs": [],
   "source": [
    "# Instalação de pacotes\n",
    "# Watermark é usado para gravar as versões de outros pacotes usados neste jupyter notebook\n",
    "#!pip install -q -U watermark\n",
    " \n",
    "# https://pypi.org/project/findspark/\n",
    "#!pip install -q findspark\n",
    "\n",
    "# Instalação da versão mais recente da biblioteca python de acesso a API do Twitter\n",
    "#!pip install tweepy==4.5.0\n",
    "\n",
    "# Instalação da biblioteca Python voltada para o processamento de dados textuais\n",
    "#!pip install textblob\n",
    "\n",
    "# Instalação da biblioteca para processamento de linguagem natural (PLN)\n",
    "#!pip install nltk"
   ]
  },
  {
   "cell_type": "code",
   "execution_count": 1,
   "id": "854ad577",
   "metadata": {},
   "outputs": [
    {
     "name": "stderr",
     "output_type": "stream",
     "text": [
      "[nltk_data] Downloading package stopwords to\n",
      "[nltk_data]     C:\\Users\\gleid\\AppData\\Roaming\\nltk_data...\n",
      "[nltk_data]   Package stopwords is already up-to-date!\n",
      "[nltk_data] Downloading package wordnet to\n",
      "[nltk_data]     C:\\Users\\gleid\\AppData\\Roaming\\nltk_data...\n",
      "[nltk_data]   Package wordnet is already up-to-date!\n"
     ]
    }
   ],
   "source": [
    "# Importação das bibliotecas\n",
    "from pyspark.sql import SparkSession\n",
    "import tweepy                                     # biblioteca python para acessar a API do Twitter\n",
    "from credenciais_api_twitter import *             # arquivo com as credenciais de acesso a API da Twitter\n",
    "#----------------------------------------------------------------------------------------------------------------\n",
    "from pyspark.sql.functions import udf             # bibioteca para escrita UDF (funções definidas pelo usuário) em python\n",
    "from pyspark.sql.types import StringType          # biblioteca para converte objeto SQL interno em objeto Python nativo\n",
    "from textblob import TextBlob                     # biblioteca Python voltada para o processamento de dados textuais\n",
    "import re                                         # biblioteca para limpeza de caracteres especiais\n",
    "#----------------------------------------------------------------------------------------------------------------\n",
    "import nltk                                       # biblioteca para processamento de linguagem natural (PLN)\n",
    "nltk.download('stopwords')                        # módulo para atualização da lista de stop words\n",
    "stop = nltk.corpus.stopwords.words('english')     # variável com a lista de stop words\n",
    "nltk.download('wordnet')                          # módulo para realizar lematização em palavras\n",
    "w_tokenizer = nltk.tokenize.WhitespaceTokenizer() # variável para o processo de \"tokenização\" para Lematização\n",
    "lemmatizer = nltk.stem.WordNetLemmatizer()        # variável para o processo de Lematização\n",
    "#----------------------------------------------------------------------------------------------------------------\n",
    "import pandas as pd                               # pandas para manipulação de dados e análise exploratória dos dados\n",
    "import seaborn as sns                             # biblioteca de visualização de dados em Python baseada em Matplotlib\n",
    "from matplotlib import pyplot as plt              # matplotlib para criação de gráficos e visualizações de dados em geral\n",
    "# para plotar os gráficos estáticos logo abaixo da célula\n",
    "%matplotlib inline"
   ]
  },
  {
   "cell_type": "code",
   "execution_count": 2,
   "id": "1ba49d3f",
   "metadata": {},
   "outputs": [
    {
     "name": "stdout",
     "output_type": "stream",
     "text": [
      "Author: Análise de Sentimentos em Tweets sobre o ChatGPT com PySpark\n",
      "\n",
      "nltk      : 3.6.5\n",
      "seaborn   : 0.11.2\n",
      "pandas    : 1.3.4\n",
      "tweepy    : 4.5.0\n",
      "re        : 2.2.1\n",
      "matplotlib: 3.4.3\n",
      "\n",
      "python    : 3.9.7\n"
     ]
    }
   ],
   "source": [
    "# Versões dos pacotes e linguagens utilizados neste projeto\n",
    "%reload_ext watermark\n",
    "%watermark -a \"Análise de Sentimentos em Tweets sobre o ChatGPT com PySpark\" --iversions\n",
    "\n",
    "# Versão da Linguagem python\n",
    "from platform import python_version\n",
    "print('python    :', python_version())"
   ]
  },
  {
   "cell_type": "code",
   "execution_count": 3,
   "id": "06ffac52",
   "metadata": {},
   "outputs": [],
   "source": [
    "# Parâmetros de configuração dos gráficos\n",
    "from matplotlib import rcParams\n",
    "rcParams['figure.figsize'] = 12, 4\n",
    "rcParams['lines.linewidth'] = 3\n",
    "rcParams['xtick.labelsize'] = 'x-large'\n",
    "rcParams['ytick.labelsize'] = 'x-large'"
   ]
  },
  {
   "cell_type": "code",
   "execution_count": 4,
   "id": "3d2bc26d",
   "metadata": {},
   "outputs": [],
   "source": [
    "# Formatação das saídas dos dataframes do spark\n",
    "pd.set_option('display.max_columns', 200)\n",
    "pd.set_option('display.max_colwidth', 400)\n",
    "from matplotlib.axes._axes import _log as matplotlib_axes_logger\n",
    "matplotlib_axes_logger.setLevel('ERROR')   # exibe somente mensagem de erro"
   ]
  },
  {
   "cell_type": "code",
   "execution_count": 5,
   "id": "f203ce7d",
   "metadata": {},
   "outputs": [],
   "source": [
    "# Importa o findspark e inicializa\n",
    "import findspark                 # para usar PySpark a partir do jupyter notebook\n",
    "findspark.init()"
   ]
  },
  {
   "cell_type": "markdown",
   "id": "ecfdc4a7",
   "metadata": {},
   "source": [
    "## <font color='red'>4 - Análise de Sentimentos</font>"
   ]
  },
  {
   "cell_type": "code",
   "execution_count": 6,
   "id": "aaf80c40",
   "metadata": {},
   "outputs": [],
   "source": [
    "# Inicialização do cliente Tweepy API usando as credenciais\n",
    "auth = tweepy.OAuthHandler(consumer_key, consumer_secret)\n",
    "auth.set_access_token(access_token, access_token_secret)\n",
    "api = tweepy.API(auth)"
   ]
  },
  {
   "cell_type": "code",
   "execution_count": 7,
   "id": "c94d0a3c",
   "metadata": {},
   "outputs": [
    {
     "name": "stdout",
     "output_type": "stream",
     "text": [
      "Número de tweets extraídos: 100.\n",
      "\n"
     ]
    }
   ],
   "source": [
    "# Extração de tweets com a palavra escolhida até a presente data\n",
    "tweets = api.search_tweets(q='ChatGPT', lang='en', count=1000, tweet_mode='extended')\n",
    "\n",
    "# Número de tweets extraídos\n",
    "print(\"Número de tweets extraídos: {}.\\n\".format(len(tweets)))"
   ]
  },
  {
   "cell_type": "code",
   "execution_count": 8,
   "id": "0bc2c787",
   "metadata": {},
   "outputs": [],
   "source": [
    "# Criação do conjunto de dados com os tweets extraídos da API do Tweeter\n",
    "spark = SparkSession.builder.getOrCreate()\n",
    "df_spark = spark.createDataFrame([(tweet.id, tweet.created_at, tweet.source, len(tweet.full_text), tweet.full_text, \n",
    "                                   tweet.favorite_count) for tweet in tweets], ['id', 'created_at', 'source', \n",
    "                                                                                     'len', 'text', 'like'])"
   ]
  },
  {
   "cell_type": "code",
   "execution_count": 11,
   "id": "d315344a",
   "metadata": {},
   "outputs": [
    {
     "name": "stdout",
     "output_type": "stream",
     "text": [
      "+-------------------+-------------------+-------------------+---+--------------------+----+\n",
      "|                 id|         created_at|             source|len|                text|like|\n",
      "+-------------------+-------------------+-------------------+---+--------------------+----+\n",
      "|1675243376520593408|2023-07-01 17:42:00|    Twitter Web App|144|RT @ykdojo: No mo...|   0|\n",
      "|1675243375572946944|2023-07-01 17:41:59| Twitter for iPhone|140|RT @riki_prems: P...|   0|\n",
      "|1675243365623902208|2023-07-01 17:41:57|Twitter for Android| 81|Here is another e...|   0|\n",
      "|1675243365020078081|2023-07-01 17:41:57| Twitter for iPhone|139|GitHub - eidam/ch...|   0|\n",
      "|1675243345398964227|2023-07-01 17:41:52|    Twitter Web App| 82|@catturd2 @elonmu...|   0|\n",
      "|1675243320249810945|2023-07-01 17:41:46|Twitter for Android|140|RT @markgadala: Y...|   0|\n",
      "|1675243288683503618|2023-07-01 17:41:39|    Twitter Web App| 80|@stevenson_les @L...|   0|\n",
      "|1675243237060009985|2023-07-01 17:41:26| Twitter for iPhone| 53|@CultureCrave @in...|   0|\n",
      "|1675243197398654977|2023-07-01 17:41:17|              IFTTT|275|📣 Exciting news!...|   0|\n",
      "|1675243181137604608|2023-07-01 17:41:13| Twitter for iPhone|140|RT @ihteshamit: Y...|   0|\n",
      "+-------------------+-------------------+-------------------+---+--------------------+----+\n",
      "only showing top 10 rows\n",
      "\n"
     ]
    }
   ],
   "source": [
    "# Verificação dos 10 primeiros registros do conjunto de dados\n",
    "df_spark.show(10)"
   ]
  },
  {
   "cell_type": "code",
   "execution_count": 12,
   "id": "484d1fe2",
   "metadata": {},
   "outputs": [
    {
     "name": "stdout",
     "output_type": "stream",
     "text": [
      "root\n",
      " |-- id: long (nullable = true)\n",
      " |-- created_at: timestamp (nullable = true)\n",
      " |-- source: string (nullable = true)\n",
      " |-- len: long (nullable = true)\n",
      " |-- text: string (nullable = true)\n",
      " |-- like: long (nullable = true)\n",
      "\n"
     ]
    }
   ],
   "source": [
    "# Visualiza os metadados (schema)\n",
    "df_spark.printSchema()"
   ]
  },
  {
   "cell_type": "code",
   "execution_count": 13,
   "id": "ffa22f6e",
   "metadata": {},
   "outputs": [
    {
     "data": {
      "text/plain": [
       "100"
      ]
     },
     "execution_count": 13,
     "metadata": {},
     "output_type": "execute_result"
    }
   ],
   "source": [
    "# Verifica o número de linhas\n",
    "df_spark.count()"
   ]
  },
  {
   "cell_type": "code",
   "execution_count": 14,
   "id": "9524855b",
   "metadata": {},
   "outputs": [
    {
     "name": "stdout",
     "output_type": "stream",
     "text": [
      "Number of rows in the dataframe after dropping the duplicates: 100\n"
     ]
    }
   ],
   "source": [
    "# Verificação de registros duplicados e, se houver, exclui\n",
    "df_spark = df_spark.dropDuplicates()\n",
    "print(f\"Number of rows in the dataframe after dropping the duplicates: {df_spark.count()}\")"
   ]
  },
  {
   "cell_type": "code",
   "execution_count": 15,
   "id": "0db81e1d",
   "metadata": {},
   "outputs": [
    {
     "name": "stdout",
     "output_type": "stream",
     "text": [
      "+-------+-----------------+\n",
      "|summary|              len|\n",
      "+-------+-----------------+\n",
      "|  count|              100|\n",
      "|   mean|            145.5|\n",
      "| stddev|59.81495032872871|\n",
      "|    min|               42|\n",
      "|    25%|              123|\n",
      "|    50%|              140|\n",
      "|    75%|              144|\n",
      "|    max|              325|\n",
      "+-------+-----------------+\n",
      "\n"
     ]
    }
   ],
   "source": [
    "# Verificação do resumo do conjunto de dados\n",
    "df_spark.select(\"len\").summary().show()"
   ]
  },
  {
   "cell_type": "code",
   "execution_count": 30,
   "id": "c7b6dfdf",
   "metadata": {},
   "outputs": [],
   "source": [
    "# Função para remoção de palavras irrelevantes (stopwords)\n",
    "def stop_word_removal(text):\n",
    "    stopwords = set(nltk.corpus.stopwords.words('english')) #portuguese\n",
    "    palavras = [i for i in text.split() if not i in stopwords]\n",
    "    return (\" \".join(palavras))\n",
    "\n",
    "\n",
    "# Função para lematização dos dados para linguagem natural\n",
    "def text_lemmatization(text):\n",
    "    lemma_words = [lemmatizer.lemmatize(w) for w in w_tokenizer.tokenize(text)]\n",
    "    return ' '.join(lemma_words)\n",
    "\n",
    "\n",
    "# Função para pré-processamento de dados para linguagem natural   \n",
    "def pre_processamento(text):\n",
    "    text = stop_word_removal(text)\n",
    "    text = text_lemmatization(text)     \n",
    "    return ' '.join(text)\n",
    "    \n",
    "    \n",
    "# Função para classificar os twitters em positivo, negativo ou neutro\n",
    "def get_sentiment(text):\n",
    "    blob = TextBlob(pre_processamento(text))\n",
    "    sentiment = blob.sentiment.polarity\n",
    "    if sentiment > 0:\n",
    "        return \"positivo\"\n",
    "    elif sentiment < 0:\n",
    "        return \"negativo\"\n",
    "    else:\n",
    "        return \"neutro\"\n",
    "\n",
    "\n",
    "# Definição de uma UDF (função definida pelo usuário) para aplicar a análise de sentimento usando TextBlob\n",
    "sentiment_udf = udf(get_sentiment, StringType())"
   ]
  },
  {
   "cell_type": "code",
   "execution_count": 31,
   "id": "4933f877",
   "metadata": {},
   "outputs": [],
   "source": [
    "# Aplicação da análise de sentimento com UDF\n",
    "df_spark_preprocessed = df_spark.withColumn(\"sentiment\", sentiment_udf(df_spark[\"text\"]))"
   ]
  },
  {
   "cell_type": "code",
   "execution_count": 32,
   "id": "b3266c7e",
   "metadata": {},
   "outputs": [
    {
     "name": "stdout",
     "output_type": "stream",
     "text": [
      "+-------------------+---------+\n",
      "|                 id|sentiment|\n",
      "+-------------------+---------+\n",
      "|1675243288683503618|   neutro|\n",
      "|1675243175345004552|   neutro|\n",
      "|1675243181137604608|   neutro|\n",
      "|1675243345398964227|   neutro|\n",
      "|1675243365020078081| negativo|\n",
      "|1675243365623902208|   neutro|\n",
      "|1675243113927802880|   neutro|\n",
      "|1675243237060009985|   neutro|\n",
      "|1675243375572946944| positivo|\n",
      "|1675243376520593408|   neutro|\n",
      "+-------------------+---------+\n",
      "only showing top 10 rows\n",
      "\n"
     ]
    }
   ],
   "source": [
    "# Verificação dos 10 primeiros registros classificados com a análise de sentimento do conjunto de dados\n",
    "df_spark_preprocessed.select(\"id\",\"sentiment\").show(10)"
   ]
  },
  {
   "cell_type": "code",
   "execution_count": 33,
   "id": "29c93642",
   "metadata": {},
   "outputs": [],
   "source": [
    "# Conversão do dataframe Spark em Pandas\n",
    "df_pandas = df_spark_preprocessed.toPandas()"
   ]
  },
  {
   "cell_type": "code",
   "execution_count": 34,
   "id": "87c52430",
   "metadata": {},
   "outputs": [
    {
     "data": {
      "text/html": [
       "<div>\n",
       "<style scoped>\n",
       "    .dataframe tbody tr th:only-of-type {\n",
       "        vertical-align: middle;\n",
       "    }\n",
       "\n",
       "    .dataframe tbody tr th {\n",
       "        vertical-align: top;\n",
       "    }\n",
       "\n",
       "    .dataframe thead th {\n",
       "        text-align: right;\n",
       "    }\n",
       "</style>\n",
       "<table border=\"1\" class=\"dataframe\">\n",
       "  <thead>\n",
       "    <tr style=\"text-align: right;\">\n",
       "      <th></th>\n",
       "      <th>id</th>\n",
       "      <th>created_at</th>\n",
       "      <th>source</th>\n",
       "      <th>len</th>\n",
       "      <th>text</th>\n",
       "      <th>like</th>\n",
       "      <th>sentiment</th>\n",
       "    </tr>\n",
       "  </thead>\n",
       "  <tbody>\n",
       "    <tr>\n",
       "      <th>0</th>\n",
       "      <td>1675243288683503618</td>\n",
       "      <td>2023-07-01 17:41:39</td>\n",
       "      <td>Twitter Web App</td>\n",
       "      <td>80</td>\n",
       "      <td>@stevenson_les @LozzaFox its temporary to stop chatgpt collecting everyones data</td>\n",
       "      <td>0</td>\n",
       "      <td>neutro</td>\n",
       "    </tr>\n",
       "    <tr>\n",
       "      <th>1</th>\n",
       "      <td>1675243175345004552</td>\n",
       "      <td>2023-07-01 17:41:12</td>\n",
       "      <td>Twitter Web App</td>\n",
       "      <td>154</td>\n",
       "      <td>@Appyg99 Exactly I use it as a default for coding projects however sometimes those results are also frustrating as I am correcting ChatGPT in its mistakes</td>\n",
       "      <td>0</td>\n",
       "      <td>neutro</td>\n",
       "    </tr>\n",
       "    <tr>\n",
       "      <th>2</th>\n",
       "      <td>1675243181137604608</td>\n",
       "      <td>2023-07-01 17:41:13</td>\n",
       "      <td>Twitter for iPhone</td>\n",
       "      <td>140</td>\n",
       "      <td>RT @ihteshamit: You can make $1,000/week with minimal effort online if you know:\\n\\n1. Canva\\n2. ChatGPT\\n3. Notion\\n4. Gumroad\\n\\nBut most people…</td>\n",
       "      <td>0</td>\n",
       "      <td>neutro</td>\n",
       "    </tr>\n",
       "    <tr>\n",
       "      <th>3</th>\n",
       "      <td>1675243345398964227</td>\n",
       "      <td>2023-07-01 17:41:52</td>\n",
       "      <td>Twitter Web App</td>\n",
       "      <td>82</td>\n",
       "      <td>@catturd2 @elonmusk Chatgpt and other AI are flooding Twitter to the point of DDOS</td>\n",
       "      <td>0</td>\n",
       "      <td>neutro</td>\n",
       "    </tr>\n",
       "    <tr>\n",
       "      <th>4</th>\n",
       "      <td>1675243365020078081</td>\n",
       "      <td>2023-07-01 17:41:57</td>\n",
       "      <td>Twitter for iPhone</td>\n",
       "      <td>139</td>\n",
       "      <td>GitHub - eidam/chatgpt-plugin-clerk-auth: ChatGPT plugin example using Cloudflare Workers and Clerk OAuth2 backend. https://t.co/kcUDZOGpeV</td>\n",
       "      <td>0</td>\n",
       "      <td>negativo</td>\n",
       "    </tr>\n",
       "    <tr>\n",
       "      <th>5</th>\n",
       "      <td>1675243365623902208</td>\n",
       "      <td>2023-07-01 17:41:57</td>\n",
       "      <td>Twitter for Android</td>\n",
       "      <td>81</td>\n",
       "      <td>Here is another e-file motion to extend my rate limit*\\n\\n*not created with chatGPT</td>\n",
       "      <td>0</td>\n",
       "      <td>neutro</td>\n",
       "    </tr>\n",
       "    <tr>\n",
       "      <th>6</th>\n",
       "      <td>1675243113927802880</td>\n",
       "      <td>2023-07-01 17:40:57</td>\n",
       "      <td>Twitter for Android</td>\n",
       "      <td>56</td>\n",
       "      <td>@ApostateProphet ChatGPT is obviously racist\\n- Jihadists</td>\n",
       "      <td>0</td>\n",
       "      <td>neutro</td>\n",
       "    </tr>\n",
       "    <tr>\n",
       "      <th>7</th>\n",
       "      <td>1675243237060009985</td>\n",
       "      <td>2023-07-01 17:41:26</td>\n",
       "      <td>Twitter for iPhone</td>\n",
       "      <td>53</td>\n",
       "      <td>@CultureCrave @inversedotcom ChatGPT entered the chat</td>\n",
       "      <td>0</td>\n",
       "      <td>neutro</td>\n",
       "    </tr>\n",
       "    <tr>\n",
       "      <th>8</th>\n",
       "      <td>1675243375572946944</td>\n",
       "      <td>2023-07-01 17:41:59</td>\n",
       "      <td>Twitter for iPhone</td>\n",
       "      <td>140</td>\n",
       "      <td>RT @riki_prems: PREMIUM ACCOUNT FOR SALE PH 💗\\n\\n          [ Grammarly PREMIUM Quillbot SALE Canva Pro Lifetime Scribd Quizlet Plus Mathway Z…</td>\n",
       "      <td>0</td>\n",
       "      <td>positivo</td>\n",
       "    </tr>\n",
       "    <tr>\n",
       "      <th>9</th>\n",
       "      <td>1675243376520593408</td>\n",
       "      <td>2023-07-01 17:42:00</td>\n",
       "      <td>Twitter Web App</td>\n",
       "      <td>144</td>\n",
       "      <td>RT @ykdojo: No more copying &amp;amp; pasting code into ChatGPT to ask questions about it!\\n\\nI've created a VS Code extension that lets you select m…</td>\n",
       "      <td>0</td>\n",
       "      <td>neutro</td>\n",
       "    </tr>\n",
       "  </tbody>\n",
       "</table>\n",
       "</div>"
      ],
      "text/plain": [
       "                    id          created_at               source  len  \\\n",
       "0  1675243288683503618 2023-07-01 17:41:39      Twitter Web App   80   \n",
       "1  1675243175345004552 2023-07-01 17:41:12      Twitter Web App  154   \n",
       "2  1675243181137604608 2023-07-01 17:41:13   Twitter for iPhone  140   \n",
       "3  1675243345398964227 2023-07-01 17:41:52      Twitter Web App   82   \n",
       "4  1675243365020078081 2023-07-01 17:41:57   Twitter for iPhone  139   \n",
       "5  1675243365623902208 2023-07-01 17:41:57  Twitter for Android   81   \n",
       "6  1675243113927802880 2023-07-01 17:40:57  Twitter for Android   56   \n",
       "7  1675243237060009985 2023-07-01 17:41:26   Twitter for iPhone   53   \n",
       "8  1675243375572946944 2023-07-01 17:41:59   Twitter for iPhone  140   \n",
       "9  1675243376520593408 2023-07-01 17:42:00      Twitter Web App  144   \n",
       "\n",
       "                                                                                                                                                         text  \\\n",
       "0                                                                            @stevenson_les @LozzaFox its temporary to stop chatgpt collecting everyones data   \n",
       "1  @Appyg99 Exactly I use it as a default for coding projects however sometimes those results are also frustrating as I am correcting ChatGPT in its mistakes   \n",
       "2         RT @ihteshamit: You can make $1,000/week with minimal effort online if you know:\\n\\n1. Canva\\n2. ChatGPT\\n3. Notion\\n4. Gumroad\\n\\nBut most people…   \n",
       "3                                                                          @catturd2 @elonmusk Chatgpt and other AI are flooding Twitter to the point of DDOS   \n",
       "4                 GitHub - eidam/chatgpt-plugin-clerk-auth: ChatGPT plugin example using Cloudflare Workers and Clerk OAuth2 backend. https://t.co/kcUDZOGpeV   \n",
       "5                                                                         Here is another e-file motion to extend my rate limit*\\n\\n*not created with chatGPT   \n",
       "6                                                                                                   @ApostateProphet ChatGPT is obviously racist\\n- Jihadists   \n",
       "7                                                                                                       @CultureCrave @inversedotcom ChatGPT entered the chat   \n",
       "8              RT @riki_prems: PREMIUM ACCOUNT FOR SALE PH 💗\\n\\n          [ Grammarly PREMIUM Quillbot SALE Canva Pro Lifetime Scribd Quizlet Plus Mathway Z…   \n",
       "9          RT @ykdojo: No more copying &amp; pasting code into ChatGPT to ask questions about it!\\n\\nI've created a VS Code extension that lets you select m…   \n",
       "\n",
       "   like sentiment  \n",
       "0     0    neutro  \n",
       "1     0    neutro  \n",
       "2     0    neutro  \n",
       "3     0    neutro  \n",
       "4     0  negativo  \n",
       "5     0    neutro  \n",
       "6     0    neutro  \n",
       "7     0    neutro  \n",
       "8     0  positivo  \n",
       "9     0    neutro  "
      ]
     },
     "execution_count": 34,
     "metadata": {},
     "output_type": "execute_result"
    }
   ],
   "source": [
    "# Verificação do conjunto de dados convertido para o pandas\n",
    "df_pandas.head(10)"
   ]
  },
  {
   "cell_type": "code",
   "execution_count": 35,
   "id": "abfed18c",
   "metadata": {},
   "outputs": [],
   "source": [
    "# Armazenamento dos dados pré-processados com a análise de sentimento para futuras verificações\n",
    "df_pandas.to_csv('dados/tweets_preprocessed.csv')"
   ]
  },
  {
   "cell_type": "code",
   "execution_count": 36,
   "id": "1c65e772",
   "metadata": {},
   "outputs": [
    {
     "data": {
      "image/png": "[encoded data removed]",
      "text/plain": [
       "<Figure size 864x288 with 1 Axes>"
      ]
     },
     "metadata": {
      "needs_background": "light"
     },
     "output_type": "display_data"
    }
   ],
   "source": [
    "# Verificação das frequências dos sentimentos   (apply_lemmatize_text + remove_stop_word)\n",
    "# Plot\n",
    "ax = sns.countplot(data = df_pandas, x = 'sentiment', label = 'Count')\n",
    "\n",
    "# Value counts\n",
    "for label in ax.containers:\n",
    "    ax.bar_label(label)\n",
    "plt.title('Verificação do sentimento que prevalece sobre o ChatGPT no Twitter',fontsize=12)\n",
    "plt.xlabel('Sentimento',fontsize=10) \n",
    "plt.ylabel('Quantidade',fontsize=10)\n",
    "plt.show()"
   ]
  },
  {
   "cell_type": "markdown",
   "id": "7103c784",
   "metadata": {},
   "source": [
    "## <font color='red'>5 - Conclusão</font>\n",
    "\n",
    "O objetivo deste trabalho foi identificar o sentimento das pessoas que predomina sobre o ChatGPT com o auxílio de processamento de linguagem de dados textuais extraídas de mensagens do Twitter. Nota-se que o sentimento netro possui maior número de classes, seguidas de negativo e positivo.\n",
    "\n",
    "A análise de sentimento aplicada atendeu bem a proposta deste trabalho. Outras estratégias de pré-processamento de dados foram testadas, como a \"Cleaning Special Characters\", \"Removal of Emojis\", \"Stemming\" e \"Vetorizador\" [7]. Porém, os métodos que obtiveram melhores resultados foram os \"Stop Word Removal\" e a \"Text Lemmatization\" [7]. Também foi testado a possibilidade de não utilizar pré-processamento de dados, onde não foi obtido resultados melhores.\n",
    "\n",
    "Para fins de trabalhos futuros, têm-se as seguintes considerações:\n",
    "\n",
    "* A proposta deste trabalho é válida para mensagens de textos no idioma em inglês. É interessante aplicar a análise de sentimentos para incluir outros idiomas. Para isso, deve-se pesquisar por outras bibliotecas de processamento de linguagem de dados textuais [5].\n",
    "\n",
    "* Ampliar a proposta para outras redes sociais e páginas da Internet para análise conjunta.\n",
    "\n",
    "* Coletar maior volumetria de dados para análise;\n",
    "\n",
    "* Testar o processo de análise de sentimentos com outros métodos de pré-processamento de dados;\n",
    "\n",
    "* Experimentar outros métodos de aprendizados supervisionados para processamento de linguagem de dados textuais, como Pattern, spaCy, Naive Bayes e Redes Neurais. Também é válido testar com métodos de aprendizados não supervisionados, como NLTK (Natural Language Toolkit) e Orientação Semântica [6].\n",
    "\n",
    "* Realizar estatísticas de acertos e erros oriundo da análise de sentimento para fins de conhecer a eficiência da biblioteca utilizada no processo de classificação das mensagens de texto."
   ]
  },
  {
   "cell_type": "markdown",
   "id": "553d9410",
   "metadata": {},
   "source": [
    "## <font color='red'>6 - Referências bibliográficas</font>\n",
    "\n",
    "[1]  Análise de sentimentos – Aprenda de uma vez por todas como funciona utilizando dados do Twitter. Disponível em: https://imasters.com.br/desenvolvimento/analise-de-sentimentos-aprenda-de-uma-vez-por-todas-como-funciona-utilizando-dados-do-twitter. Acesso em junho de 2023.\n",
    "\n",
    "\n",
    "[2]  O que é ChatGPT e como acessar a inteligência artificial em português. Disponível em: https://olhardigital.com.br/2023/01/13/dicas-e-tutoriais/o-que-e-chatgpt-e-como-acessar-a-inteligencia-artificial-em-portugues/#h-o-que-e-o-chatgpt. Acesso em junho de 2023.\n",
    "\n",
    "\n",
    "[3]  O que é inteligência artificial?. Disponível em: https://tecnoblog.net/responde/o-que-e-inteligencia-artificial/. Acesso em junho de 2023.\n",
    "\n",
    "\n",
    "[4]  Afinal, para que serve o Twitter? Descubra agora como usar essa rede social. Disponível em: https://rockcontent.com/br/blog/para-que-serve-o-twitter/. Acesso em junho de 2023.\n",
    "\n",
    "\n",
    "[5]  TextBlob - uma alternativa para o Processamento de Linguagem Natural. Disponível em: https://www.alura.com.br/artigos/textblob-alternativa-para-processamento-linguagem-natural?gclid=EAIaIQobChMItMqG46Ts_wIVdi3UAR2_bwcNEAAYASAAEgL85fD_BwE. Acesso em junho de 2023.\n",
    "\n",
    "\n",
    "[6]  Análise de Sentimento com aprendizado supervisionado e não supervisionado. Disponível em: https://medium.com/neuronio-br/an%C3%A1lise-de-sentimento-com-aprendizado-supervisionado-e-n%C3%A3o-supervisionado-d885bd7ae620. Acesso em junho de 2023.\n",
    "\n",
    "\n",
    "[7]  PLN – Processamento de Linguagem Natural para Iniciantes. Disponível em: https://www.insightlab.ufc.br/pln-processamento-de-linguagem-natural-para-iniciantes. Acesso em junho de 2023."
   ]
  }
 ],
 "metadata": {
  "kernelspec": {
   "display_name": "Python 3 (ipykernel)",
   "language": "python",
   "name": "python3"
  },
  "language_info": {
   "codemirror_mode": {
    "name": "ipython",
    "version": 3
   },
   "file_extension": ".py",
   "mimetype": "text/x-python",
   "name": "python",
   "nbconvert_exporter": "python",
   "pygments_lexer": "ipython3",
   "version": "3.9.7"
  }
 },
 "nbformat": 4,
 "nbformat_minor": 5
}
